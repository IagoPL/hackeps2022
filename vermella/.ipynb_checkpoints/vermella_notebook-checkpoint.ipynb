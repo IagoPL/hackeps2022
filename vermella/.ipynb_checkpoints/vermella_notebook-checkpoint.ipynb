{
 "cells": [
  {
   "cell_type": "code",
   "execution_count": 196,
   "id": "298a5553",
   "metadata": {},
   "outputs": [],
   "source": [
    "import pandas as pd"
   ]
  },
  {
   "cell_type": "code",
   "execution_count": 197,
   "id": "2aa454b1",
   "metadata": {},
   "outputs": [],
   "source": [
    "df = pd.read_csv(\"img_tag.csv\")\n",
    "df = df.dropna()"
   ]
  },
  {
   "cell_type": "code",
   "execution_count": 198,
   "id": "4e54f063",
   "metadata": {},
   "outputs": [],
   "source": [
    "dades = list(zip(df.name, df.text))\n",
    "columns = [\"Name\", \"Defect\"]\n",
    "lst = []"
   ]
  },
  {
   "cell_type": "code",
   "execution_count": 199,
   "id": "78e05216",
   "metadata": {
    "scrolled": true
   },
   "outputs": [],
   "source": [
    "id_defectos = {\n",
    "    \"agujeros\": [\"grieta\", \"agujero\"],\n",
    "    \"marcas\": [\"defecto\"],\n",
    "    \"manchas\": [\"mancha\"],\n",
    "    \"pliegues\": [\"pliegue\"],\n",
    "    \"rayas_colores\": [\"raya\", \"franja\"],\n",
    "    \"ignore\": [\"cámara\", \"luz\", \"lámpara\", \"corta\"]\n",
    "}"
   ]
  },
  {
   "cell_type": "code",
   "execution_count": 200,
   "id": "dbc9a166",
   "metadata": {},
   "outputs": [],
   "source": [
    "def check_id(value, text):\n",
    "    if any(word in text for word in value):\n",
    "        return True\n",
    "    else:\n",
    "        return False"
   ]
  },
  {
   "cell_type": "code",
   "execution_count": 201,
   "id": "31e92a09",
   "metadata": {},
   "outputs": [],
   "source": [
    "for name, desc in dades:\n",
    "    other = True\n",
    "    for key, value in id_defectos.items():\n",
    "        desc = desc.lower()\n",
    "        if check_id(value, desc):\n",
    "            other = False\n",
    "            if key != \"ignore\":\n",
    "                lst.append([name, key])\n",
    "                break\n",
    "    if other:\n",
    "        lst.append([name, \"other\"])\n",
    "    \n",
    "df2 = pd.DataFrame(lst, columns=columns)       \n",
    "            "
   ]
  },
  {
   "cell_type": "code",
   "execution_count": 202,
   "id": "0d0126c9",
   "metadata": {},
   "outputs": [],
   "source": [
    "df2.to_csv('vermella.csv')"
   ]
  },
  {
   "cell_type": "code",
   "execution_count": null,
   "id": "b8c5dcf6",
   "metadata": {},
   "outputs": [],
   "source": []
  }
 ],
 "metadata": {
  "kernelspec": {
   "display_name": "Python 3 (ipykernel)",
   "language": "python",
   "name": "python3"
  },
  "language_info": {
   "codemirror_mode": {
    "name": "ipython",
    "version": 3
   },
   "file_extension": ".py",
   "mimetype": "text/x-python",
   "name": "python",
   "nbconvert_exporter": "python",
   "pygments_lexer": "ipython3",
   "version": "3.10.4"
  }
 },
 "nbformat": 4,
 "nbformat_minor": 5
}
