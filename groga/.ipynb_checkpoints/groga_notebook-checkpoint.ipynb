{
 "cells": [
  {
   "cell_type": "code",
   "execution_count": 94,
   "id": "0a82129c",
   "metadata": {
    "colab": {
     "base_uri": "https://localhost:8080/",
     "height": 35
    },
    "id": "0a82129c",
    "outputId": "9468b81f-7b06-4738-f4af-9a54d880f658"
   },
   "outputs": [
    {
     "data": {
      "text/plain": [
       "'1.5.2'"
      ]
     },
     "execution_count": 94,
     "metadata": {},
     "output_type": "execute_result"
    }
   ],
   "source": [
    "import pandas as pd\n",
    "import os\n",
    "pd.__version__"
   ]
  },
  {
   "cell_type": "code",
   "execution_count": 95,
   "id": "70933869",
   "metadata": {
    "id": "70933869"
   },
   "outputs": [],
   "source": [
    "types = [\"liso\", \"punto\", \"tejido_sofa\", \"mimbre\", \"cuadros\", \"rayas\", \"estampado_floral1\", \"estampado_floral2\"]\n",
    "prefix = [\"c1r1\", \"c1r3\", \"c2r2\", \"c2r3\", \"c3r1\", \"c3r3\", \"c4r1\", \"c4r3\"]\n",
    "conection = list(zip(prefix, types))\n",
    "columns = [\"Name\", \"Pattern\"]\n",
    "Y_list_names = []\n",
    "lst = []"
   ]
  },
  {
   "cell_type": "code",
   "execution_count": 96,
   "id": "070556a7",
   "metadata": {
    "id": "070556a7"
   },
   "outputs": [],
   "source": [
    "for (dir_path, dir_names, file_names) in os.walk(\"files/A1/A1/\"): \n",
    "\t\tfor files in file_names:\n",
    "\t\t\tif files.endswith(\".tif\"):\n",
    "\t\t\t\tY_list_names.append(files)"
   ]
  },
  {
   "cell_type": "code",
   "execution_count": 97,
   "id": "dacee5ad",
   "metadata": {},
   "outputs": [],
   "source": [
    "for prefix, pattern in conection:\n",
    "    for name in Y_list_names:\n",
    "        if name.startswith(prefix):\n",
    "            lst.append([name, pattern])\n",
    "df = pd.DataFrame(lst, columns=columns)"
   ]
  },
  {
   "cell_type": "code",
   "execution_count": 100,
   "id": "Vmqcpj0X94Pw",
   "metadata": {
    "id": "Vmqcpj0X94Pw"
   },
   "outputs": [],
   "source": [
    "df.to_csv(\"groga.csv\")"
   ]
  },
  {
   "cell_type": "code",
   "execution_count": 101,
   "id": "e4906f9a",
   "metadata": {},
   "outputs": [
    {
     "data": {
      "text/html": [
       "<div>\n",
       "<style scoped>\n",
       "    .dataframe tbody tr th:only-of-type {\n",
       "        vertical-align: middle;\n",
       "    }\n",
       "\n",
       "    .dataframe tbody tr th {\n",
       "        vertical-align: top;\n",
       "    }\n",
       "\n",
       "    .dataframe thead th {\n",
       "        text-align: right;\n",
       "    }\n",
       "</style>\n",
       "<table border=\"1\" class=\"dataframe\">\n",
       "  <thead>\n",
       "    <tr style=\"text-align: right;\">\n",
       "      <th></th>\n",
       "      <th>Name</th>\n",
       "      <th>Pattern</th>\n",
       "    </tr>\n",
       "  </thead>\n",
       "  <tbody>\n",
       "    <tr>\n",
       "      <th>0</th>\n",
       "      <td>c1r1e2n24.tif</td>\n",
       "      <td>liso</td>\n",
       "    </tr>\n",
       "    <tr>\n",
       "      <th>1</th>\n",
       "      <td>c1r1e2n23.tif</td>\n",
       "      <td>liso</td>\n",
       "    </tr>\n",
       "    <tr>\n",
       "      <th>2</th>\n",
       "      <td>c1r1e2n8.tif</td>\n",
       "      <td>liso</td>\n",
       "    </tr>\n",
       "    <tr>\n",
       "      <th>3</th>\n",
       "      <td>c1r1e2n4.tif</td>\n",
       "      <td>liso</td>\n",
       "    </tr>\n",
       "    <tr>\n",
       "      <th>4</th>\n",
       "      <td>c1r1e2n21.tif</td>\n",
       "      <td>liso</td>\n",
       "    </tr>\n",
       "    <tr>\n",
       "      <th>...</th>\n",
       "      <td>...</td>\n",
       "      <td>...</td>\n",
       "    </tr>\n",
       "    <tr>\n",
       "      <th>3147</th>\n",
       "      <td>c4r3e5n16.tif</td>\n",
       "      <td>estampado_floral2</td>\n",
       "    </tr>\n",
       "    <tr>\n",
       "      <th>3148</th>\n",
       "      <td>c4r3e5n27.tif</td>\n",
       "      <td>estampado_floral2</td>\n",
       "    </tr>\n",
       "    <tr>\n",
       "      <th>3149</th>\n",
       "      <td>c4r3e5n1.tif</td>\n",
       "      <td>estampado_floral2</td>\n",
       "    </tr>\n",
       "    <tr>\n",
       "      <th>3150</th>\n",
       "      <td>c4r3e5n28.tif</td>\n",
       "      <td>estampado_floral2</td>\n",
       "    </tr>\n",
       "    <tr>\n",
       "      <th>3151</th>\n",
       "      <td>c4r3e5n49.tif</td>\n",
       "      <td>estampado_floral2</td>\n",
       "    </tr>\n",
       "  </tbody>\n",
       "</table>\n",
       "<p>3152 rows × 2 columns</p>\n",
       "</div>"
      ],
      "text/plain": [
       "               Name            Pattern\n",
       "0     c1r1e2n24.tif               liso\n",
       "1     c1r1e2n23.tif               liso\n",
       "2      c1r1e2n8.tif               liso\n",
       "3      c1r1e2n4.tif               liso\n",
       "4     c1r1e2n21.tif               liso\n",
       "...             ...                ...\n",
       "3147  c4r3e5n16.tif  estampado_floral2\n",
       "3148  c4r3e5n27.tif  estampado_floral2\n",
       "3149   c4r3e5n1.tif  estampado_floral2\n",
       "3150  c4r3e5n28.tif  estampado_floral2\n",
       "3151  c4r3e5n49.tif  estampado_floral2\n",
       "\n",
       "[3152 rows x 2 columns]"
      ]
     },
     "execution_count": 101,
     "metadata": {},
     "output_type": "execute_result"
    }
   ],
   "source": [
    "df"
   ]
  }
 ],
 "metadata": {
  "colab": {
   "provenance": []
  },
  "kernelspec": {
   "display_name": "Python 3 (ipykernel)",
   "language": "python",
   "name": "python3"
  },
  "language_info": {
   "codemirror_mode": {
    "name": "ipython",
    "version": 3
   },
   "file_extension": ".py",
   "mimetype": "text/x-python",
   "name": "python",
   "nbconvert_exporter": "python",
   "pygments_lexer": "ipython3",
   "version": "3.10.4"
  }
 },
 "nbformat": 4,
 "nbformat_minor": 5
}
